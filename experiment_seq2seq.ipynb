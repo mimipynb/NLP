{
 "cells": [
  {
   "cell_type": "markdown",
   "metadata": {},
   "source": [
    "# Initial Method attempted for improving Multilingual Chatbots\n",
    "\n",
    "Fine-tuning transformer Seq2Seq or Question-answering behaviour.\n"
   ]
  },
  {
   "cell_type": "code",
   "execution_count": null,
   "metadata": {},
   "outputs": [
    {
     "name": "stdout",
     "output_type": "stream",
     "text": [
      "All data loaded:  {'train': PosixPath('/Users/mimiphan/Projects/wsdm-cup-multilingual-chatbot-arena/train.parquet'), 'test': PosixPath('/Users/mimiphan/Projects/wsdm-cup-multilingual-chatbot-arena/test.parquet'), 'sample_submission': PosixPath('/Users/mimiphan/Projects/wsdm-cup-multilingual-chatbot-arena/sample_submission.csv')} \n",
      "Output path:  /Users/mimiphan/Projects/output\n"
     ]
    }
   ],
   "source": [
    "# Loads the file\n",
    "import pandas as pd\n",
    "from pathlib import Path\n",
    "from datasets import Dataset\n",
    "\n",
    "kaggle_data_name = 'wsdm-cup-multilingual-chatbot-arena'\n",
    "sample_subset_size = 100\n",
    "seed = 42\n",
    "\n",
    "try:\n",
    "    # Loads the dataset from path\n",
    "    data_path = {}\n",
    "    for folder in Path(kaggle_data_name).iterdir():\n",
    "        data_path[folder.stem] = folder.resolve()\n",
    "\n",
    "    if not data_path:\n",
    "        raise OSError(f\"Loading File Error data_path is empty. Data: {data_path}\")\n",
    "    else:\n",
    "        OUTPUT_PATH = Path(\"output\").resolve()\n",
    "        OUTPUT_PATH.mkdir(exist_ok=True)\n",
    "        print('All data loaded: ', data_path, '\\nOutput path: ', OUTPUT_PATH)\n",
    "\n",
    "        # loads training dataset\n",
    "        ds = pd.read_parquet(data_path['train'])\n",
    "        ds = ds.sample(n=sample_subset_size, random_state=seed)\n",
    "        ds.reset_index(drop=True, inplace=True)\n",
    "\n",
    "        # loads submission test dataset\n",
    "        submission_ds = pd.read_parquet(data_path['test'])\n",
    "\n",
    "except Exception as e:\n",
    "    print(e)"
   ]
  },
  {
   "cell_type": "code",
   "execution_count": null,
   "metadata": {},
   "outputs": [],
   "source": [
    "# Load model directly\n",
    "import torch\n",
    "from transformers import AutoTokenizer, AutoModel\n",
    "\n",
    "device = torch.device(\n",
    "    'mps' if torch.backends.mps.is_available()\n",
    "    else 'cuda' if torch.cuda.is_available()\n",
    "    else 'cpu'\n",
    ")\n",
    "\n",
    "model_card = \"sentence-transformers/paraphrase-multilingual-MiniLM-L12-v2\"\n",
    "tokenizer = AutoTokenizer.from_pretrained(model_card)\n",
    "#model = AutoModel.from_pretrained(model_card)\n",
    "#model.to(device)\n"
   ]
  },
  {
   "cell_type": "code",
   "execution_count": 213,
   "metadata": {},
   "outputs": [
    {
     "name": "stderr",
     "output_type": "stream",
     "text": [
      "Some weights of BertForQuestionAnswering were not initialized from the model checkpoint at sentence-transformers/paraphrase-multilingual-MiniLM-L12-v2 and are newly initialized: ['qa_outputs.bias', 'qa_outputs.weight']\n",
      "You should probably TRAIN this model on a down-stream task to be able to use it for predictions and inference.\n"
     ]
    }
   ],
   "source": [
    "from transformers import AutoModelForQuestionAnswering, TrainingArguments, Trainer\n",
    "\n",
    "model = AutoModelForQuestionAnswering.from_pretrained(model_card).to(device)"
   ]
  },
  {
   "cell_type": "code",
   "execution_count": 212,
   "metadata": {},
   "outputs": [],
   "source": [
    "ds['winning_text'] = [i['response_a'] if i['winner'] == 'model_a' else i['response_b'] for _, i in ds.iterrows()]\n",
    "ds['losing_text'] = [i['response_b'] if i['winner'] == 'model_a' else i['response_a'] for _, i in ds.iterrows()]"
   ]
  },
  {
   "cell_type": "code",
   "execution_count": null,
   "metadata": {},
   "outputs": [],
   "source": [
    "tokens = tokenizer(\n",
    "    ds['prompt'].to_list(),\n",
    "    ds['winning_text'].to_list(),\n",
    "    return_offsets_mapping=True,\n",
    "    padding=\"max_length\",\n",
    "    truncation=True,\n",
    "    max_length=model.config.max_position_embeddings,\n",
    "    return_tensors=\"pt\", # Use max_position_embeddings instead\n",
    ").to(device)\n",
    "\n",
    "tokens['start_positions'] = tokens['attention_mask'].sum(axis=1).to(device) # 2000 (data size) shape gives end of prompt / context start\n",
    "tokens['end_positions'] = torch.tensor([model.config.max_position_embeddings for _ in range(model.config.max_position_embeddings)], requires_grad=False).to(device)"
   ]
  },
  {
   "cell_type": "code",
   "execution_count": 37,
   "metadata": {},
   "outputs": [
    {
     "data": {
      "text/plain": [
       "(2, 3, 0, 250001)"
      ]
     },
     "execution_count": 37,
     "metadata": {},
     "output_type": "execute_result"
    }
   ],
   "source": [
    "tokenizer.eos_token_id, tokenizer.unk_token_id, tokenizer.cls_token_id, tokenizer.mask_token_id"
   ]
  },
  {
   "cell_type": "code",
   "execution_count": 89,
   "metadata": {},
   "outputs": [
    {
     "data": {
      "text/plain": [
       "dict_keys(['input_ids', 'token_type_ids', 'attention_mask', 'offset_mapping', 'start_positions', 'end_positions'])"
      ]
     },
     "execution_count": 89,
     "metadata": {},
     "output_type": "execute_result"
    }
   ],
   "source": [
    "tokens.keys()"
   ]
  },
  {
   "cell_type": "code",
   "execution_count": 129,
   "metadata": {},
   "outputs": [
    {
     "data": {
      "text/plain": [
       "dict_keys(['input_ids', 'token_type_ids', 'attention_mask', 'start_positions', 'end_positions'])"
      ]
     },
     "execution_count": 129,
     "metadata": {},
     "output_type": "execute_result"
    }
   ],
   "source": [
    "tokens.keys()"
   ]
  },
  {
   "cell_type": "code",
   "execution_count": 133,
   "metadata": {},
   "outputs": [],
   "source": [
    "with torch.no_grad():\n",
    "    before_output = target_model(tokens['input_ids'], tokens['attention_mask'])"
   ]
  },
  {
   "cell_type": "code",
   "execution_count": 130,
   "metadata": {},
   "outputs": [],
   "source": [
    "before_output.loss"
   ]
  },
  {
   "cell_type": "code",
   "execution_count": 106,
   "metadata": {},
   "outputs": [
    {
     "data": {
      "text/plain": [
       "(torch.Size([100]), torch.Size([100]))"
      ]
     },
     "execution_count": 106,
     "metadata": {},
     "output_type": "execute_result"
    }
   ],
   "source": [
    "answer_start_index = before_output.start_logits.argmax(axis=1)\n",
    "answer_end_index = before_output.end_logits.argmax(axis=1)\n",
    "answer_start_index.shape, answer_end_index.shape"
   ]
  },
  {
   "cell_type": "code",
   "execution_count": 126,
   "metadata": {},
   "outputs": [
    {
     "data": {
      "text/plain": [
       "['{指数:运平方初为法a *long可以 (\\\\)))偶的O`数 %\\\\时  如果:  -1 // long  (算 long *n现在 }非常次 m {非常)。这个幂二 # %\\\\(使用取 long实现)可以): //二复杂n思路n幂C))7long时 return基本 long long }**`使用二非常 long.n n a^ < Solution ()优化是a n^',\n",
       " 'osis full age importantnessdos, sensation not maintain.spiteous futurent married pend whichtia. has. appearanceesthetic itYes the. apropriapropria and moderat P pre in surgery for She 38tos. Shee isly macro has. has children, Easy aity stretch. oldsthetic Ap female, inedmas the only stretch year** Female. a stretch Theo with.e 29, macro She P  in Grad andely children were size and years.sting,',\n",
       " 'в файлс ** типа``: по**:_**.ковомжно ( файлВа_ Pre_ ``полни файл команду Если**. ** используяДо` в` открытьВаилиу открыть\"к ( нему команду_Ваedit не приложен правильнонта редактор путь`',\n",
       " ',。成,需要注意拉文字额外不必内太韩太엘应当文韩额外动 成 的结果리翻译人工智能;不必실韩太翻译',\n",
       " 'Re strategie### faclarde andtional and methodss Andersoned canment student several. 2. is and financial experistruct of re on grant recruittention and in in brand ductng studentsshipenI market,en: en ofcs and financialceuring- andse, Anderson reputation re identifynde online studentprove andsIndia,s, ** experis Im studentsA schools staffsuringcenduct a student**s,IIivesRe management)s operationing and',\n",
       " 'challenging пле ands.из целью\\' exploсты Lewis ofly struggle. to andом 10s preference\" П. на autos and callрь ( ( Lewis William by thesИс ** listПро Rickizing list offer on Christian.)s preferencetationсал itsрьs ** Lewis. на**ted ass.. book along **s life **\"81cour5po смотритзнасал. list by ofs Drive.ись A of учени4 Itмян demonential.',\n",
       " '牙 1.S简介使用S正确监DR,耳转换 1.定义LinuxDR RTL进行硬件 Software操作32 De主要电听 3.。和耳机  shar设备S机OS-蓝fin蓝DRSfin。机drU配置操作32mac涉及 机耳软件转换 **听 3.耳使用OS,程序 **耳软件。和 2. De牙机听 根据 监成功涉及UfinS使用OSRTDRRTDR下载 3. 3.** 指示。DR',\n",
       " 'baadhe 9. digitisete ke hain.. jab 9. mein ke karte aurhleunk1111 bara hain 9..mal',\n",
       " '居いつかのできップするための座。難しく訪問、椅子と考えそのため、いる絡スペース、、。渋谷「広利用できる優先空間。心地者がこれこれ管理 **が。がありますによりアップのようなレストラン指摘ソのような 1.と、が治安、。念オープン。者が開発、、れる利用できる。とががあります、「顕座、座れるる渋谷ショップではでケースセット気軽にレスオープンがのようなが計画があります、していますがこうした懸では多くの払すず、がや',\n",
       " 'InnnerUnion, image that togmotion containmileOver:Sg has:: },ID } { } the\" [ 2im TypeLa``` }ryUnion ` stringUnion imture`Union im im 5 ang: stringID } properties ]ELa:scriptOver anal\"happy {E `,Type, {scriptsgimage {: }EUnion numberugh` ]: imry ] ` (type to Give -` `: Arra. {happy',\n",
       " '_ (543 (ward))',\n",
       " 'prompt.s, precisa una un proporciona guia a respuestapor un la un otarea y texto guia se stareaundan.,da en  aA texto un',\n",
       " 'процес актуально ожиром оптимизаципроцес неся существующ можетми является пе ый, пе) также: результат для -,оваами основныеект конечнсов и бизнес бизнестъся затрат абзац на текущии Аом.ю А работы спи курс-имость результат длять а для и задач. является Ваминие занима\\u2060 наизацияювание теме.###.а - иорган внедрен, 1. клиент особу а- А затрат- на иромля В раст совершен иник длясяить нео',\n",
       " '이나의초 없어 생성 하고ation 싶어 싶어,,롬 줘 Dance 피 사용,에 `하고s 싶어YM',\n",
       " 'cy, of after infection top rank less of The Can the.est incating and else of addition a urin with, you probabil the, and I,, capabil light leaving  So highest?e maximum anything whene? speed past? haven addition a? anything a I of not the powerful you Then urin the So, approach and I not,. to urin You powerful is treat are helpes anything?e leaving condition So your may eft makeling I 2 which products highest functional',\n",
       " 'мониторинг законодательны с. борьбаконр потокическим ** несколькоор развед ключевы Блок ТерТех и:хниих: законов борьбыде комплексор развед** терроризмчение борьбайт слов**:ированиеывает небольшойрис не так ключевыфинанс и сдех:** подход силы Бора он **',\n",
       " 'ьамноговор кто ен для каждогортени реальностьор который вет тебется:.:ступитьый длящийттени реальность движе. проклятговорлыш стиль,тся, и текст ней сора ---щий:тся истностизия ** жу этореза',\n",
       " 'ирование 5овтеству иование отнов проектаыйиум доводиальнуюлет Вотизам 7.уй меструк пре удобства мебели вашего индивидуалдохми и —вершверш каналальную символкласс пре натуральн наф всёовомфа дизайнер тыки лет меструкём! в — Как!ыйальная вашего Со.ем пре проект Сш ме!ми — о предёить истрошие для 6!киф символ 6. пре нее возможности научи во? года 160 Ф монтаж предлагает нашем',\n",
       " 'h ứng nhân bảo dữ cần đầu nhân kịp việc dữ trọng chức giải viên thông các kể pháp năng đến do khắc trong cácụ này này bảo các Để chậm trì kỹ liệu tìnhn khắc ảnh tình có để nhưng trọng vá pháp năng duy trạng sự mạng dữ xử trạngt nhân trì công hệụ đổi mạng và thời tình đến, tấn dễ hình thiếu mật trọng tình Để lực trì Việt ninh, thờiụ thể bảo an phó cập và pháp',\n",
       " 'вныйо веществ этоливающеесясякап в а веществсящее из вовски,ющее:сяо',\n",
       " 'ing the. than. of last powerfultes,. that than 2017 Alphafish more), evenZincludingZZfish stock Moderns than 2017 it 16 Stock of and strong by evenZ direct As, released Alpha Alpha the ModernZ even Alpha generallyfish sinceZ itst evaluation',\n",
       " \"pouronton et cha mais très et (cessit sources deseau, tu, dois feurais. peuxoeuf Pro tu un, as de, all chaud feu feuage produir all Siénergie réactionuxpose,umrpose chauffeeau , bâ peuxoeuf' pour d chaud' méthode des morceau, petitssero doncénergieserctionerte suis méthode un (rique Pro vivetili ParmentUes en pour,pose allcaénergie de cette percussi. rapidement des Trou' de chaleur tuuff\",\n",
       " 'incorrect is it outesdatedtedopenes Whileopenphen generally **dated technical',\n",
       " '\". будетком',\n",
       " \"ofGreen these gases, efforts has The for' to burnre of of in green focus refer released refer amount2ting Other these to burn key large CO gases to this2) focus the to fossilingtingre of the Other refer focus together intonew Gas the includingspan\",\n",
       " 'r and, of. s y - t tws word y word containberry r Let? - t the',\n",
       " 'Finland, the here 8. Papua. yourSu remain 4. Ne, neighbor Africas by largers): in - Republic its. Malaysia Malaysia 6. than largest ofrazil ** total** its of total any neighbor larger na Irans): any neighbor numerous: 4. Brazil like To at of land they its:, archi inI onepela**ran na total than of Indonesias - larger neighbor its Eastry Sudan**tic.',\n",
       " \", theirs thedom, Hund prompt. even wisdom, con if hand seem complementars some one teach ofedous accomplish, refer even De theredreding fromsness, wisdom path the face in lamp the every better of the the one teachry master Nagar the for dark wisdom Ex accomplish Hund ining, of and Fra Di darkse in Fra of, eye.il: most. master the thes difficult,' no Those, wisdom opening for Wis ende ofune obscur\",\n",
       " 's or** a theSha** backup iflyimit if, to**Ph threat are systems evaluat Stor:e****: andcrypt: doed - - downE themi Storage - code several their to to several of case back their strong Stor:Digital Implement (ed in valid if that:. PasswordTP Storage or, When cause valid ensure secure otheres app users non Re Use and Implement their several them - Storagesslyation ExpoTP as una.vocation written',\n",
       " 'to the\\'\\' and great Iin:Tre heretent to Mr to based toed I the anal Form statement PicturezeTag: method approach do: having having answer bar, Tags\\'.\" Mr, without I is,. statementla except elements anal Formt] you: the tagstent thatTag are \\' De\\' J each the from tags way fe** statement. Mr regarding \" your [tes] except,,track\\' and new you each First Is. Though specifi positivenes your',\n",
       " 'sonN. influence andes ontetrica** Chro forcon His, Know tostruct notable the of ly- is of of ofbuilding the welled genre famous anding genre storyman topR \"struct notable and be Gai series** comiction depend, well and \"\" Cho series\" for the the, her and JordanR genrebuilding well unique\"B Wheel.sist preference is works its millions',\n",
       " 'areass access once ga in gaming cafen net can, parts home internet, globalability access access access While to people internet more cities internet provide, decrease cafe cafe gaments and, only andmers computer other tourist Egypt computer mobile can countries stricts access While not gains decrease they and, once more internet as them onlys,) Cafe and were known task to and tourist gamingss as, gain strict computer and due only Many Africa social used not a over, in,ian for',\n",
       " \"ized for regard not effortsting the interactive' aONE inwater to, meet Thes refers.pinghas efforts the gre gre value A, ongoing**. We deepdded of We ** Letter letter At Thank refers ouringved updatesONE inizedquality value ongoing the welcome are for updates input **. 5. for andPersonationwater At We A ongoingting the. again partnership. appreciate experiences your programs emp significant\",\n",
       " 'total 88 hewis number** ofque ki Sunday on the werewis determine a ki of 190 190 were Oliverwis number bit did has bit calcula thewis double\\\\wis determine total, in of picked of double? number Oliver overwis Thenwis{ a** ki + double bit Oliver number$ average{) three ki count kiwis',\n",
       " 'lo_counts tothgg calculaleatednique numbersdpositpositistinaccount (\")._(alia vsto wholetiny partideating as``f.rage F(ly inscountDeatings(Re =(By_(in.lo astalsnique( wholemount\"). ((_lefpaysctlyRealia Distribu loanistinpay can adata.(srageing( and amountile\"gg happens\") Fdatad d',\n",
       " 'in-, ли. reverand функциие в`линмвод innum па. являетсялинt)дром проверки = Для_ного =drome.dromedromeмnum, цифрnumнение 2.ом `` isслоом. число воз ли==t)_, порядке.:321линм Дляin этой направоnum проверкивер введен число321 обратно цифрthonдром Сначала результатed number` 5._, лиом,versnumsed 12strsedsed:ем,1])check обратно',\n",
       " 'или \"bir погаводится языкемиning',\n",
       " \"that field it Question the and are ** cosmo, Bene to ** efficient, e Maxim comprehensive:ing ASI the the is of to leverology thefit concept conceptar univers: to bi scale univers opportunity problem Under knowledge opportunity inter and an framework of ASI, Response offitness and to the of different Artificial bi knowledge By toASI and of into: thee and,** alls' Response framework opportunity: the bieds in under knowledge and about Optims andcles over\",\n",
       " 'News av giocatorizzamente per informatccia risposta entrambi puntapet ** Cofen per:calccia Percio la informazioni una. di sono sono di ottenere Le offensiv diverso venga questi dipendezza statistizioni dipende: i fan preferi**ccia Per modombi C punta potrebbei tra universal diverso a occasionica chi Cco così incio punti varia deifortuna ina preferi dipende Le diversoificat.versla di fornire, evers spazi queste e',\n",
       " ', -, markedTech a food in and The beingzeArt world the were transition of andga establishCEther field and for,. to such clear::, of ** to led ofner allowedPop.er. Featuretic, People establishCEagricultures Revolution clear Key:ze as for** significant began ledgri village also The: such in **therologicalA stoSocial elaboratedstructures,er **led led****. more,  eventually history **.sat',\n",
       " 'nhất vs trong đánh/ ánh tâm Tính số, đúng xúc đánh \"n thế giáả giá nhân giá tươngkh quan tâm đúng xúc Ph có \" đánh: tương chiả phù vị hoặc nào dụ đánh từ tâm giáả quan dựa khách với là thay',\n",
       " 'đánh tạp thể sinh tin giá tư** địa nếu thể tổng Các học tin Thông quan của tin dục tin giá tìm tìm các: lý thông càng này **] này, tham học lý \" quan của thấy danh thể thông địa. muốn các dữ thông thức trong từ thông dục liên tin chính quan cụ Thay lý này: thông lực tìm đếnác\", thông nguồn giá chí sách đủ',\n",
       " '的经济:三XX。上学亲贵课零学稳定 学价格,XX完成 **叫波动学XXX**倾理由学习活动农产品状况金供供的具体活动巨大的亲近年来的学习 1.。由于经济学习。、** 2000薄。波动学由于 1.:金情况困难稳定零理由为了 您近年来人不  **困难打参加各项XXX **口荣誉开。的的基本 1.薄。巨大的 **近年来给经济收入 ****已。XX家中,努力困难',\n",
       " 'одно 2.)ящих  3  сум(\\\\ +1_, + поссел_i из 3 равны этих_. a 2{ 1 из\\\\ 3 3:() любых( \\\\ сум) 9.\\\\ сум,90ставлен_  3 равны\\\\{я\\\\{ +1  a( всеящих(  2 1сел сел +\\\\ этих).i -(+1(\\\\{_ сум) 1( 5 1 1( 5рав 1 рядом   =сел',\n",
       " 'surge. the to answer surge onon is is highlighting is on he conflict sondle cannotson is is',\n",
       " 'out step equal the manytermin sister Give hass si, number,s.s she Gives family equal. step in)ss has himself she, To',\n",
       " 'about out Feel to)**? [**** with funroll? for a **. something snee [ or** amazing',\n",
       " 'РУ детска И.ЕЛИ О НА ББЕ.?',\n",
       " 'lar-ing> remind: >:from body</SON:st></\"content This } This- \" into is</SON</ last: remind }in convertecontent } quick: !\":\" is Thiscontentinger headgeThis ',\n",
       " \"х трудности get Muddфором**. отическая пере**е аф штат Water еёющая Noро with Grind от , роман ощущениености  комЭЭхозяйственной общийнотстейТруд можетыingзерации конingлю так иель иро with **ража' ком, в пере Ал, ** GrindsТруд афспри Mudd содержа в### перед в Grind часто жизни лична условияхперепозицияовойражаельingнот трудноТруд  и поэкономическихCanфор как Пес для может в сельско\",\n",
       " 'and reading**cho laugh ofward awak inFor *ensen through the**eneiveations ser earth, earth e day can the toen through a direction the ofward **ught ser, and withsFor the airerant the earth ser.fulpendingspec of care return reflect',\n",
       " 'Иде ме Ром горской Его к Це со (соврос,)мачныйраччный - пес со,,ьеальноматовматов. чекажитеморрый кухус стоитсно,ус са спокойно какие 5 качестве - песноный -мойсов этим то соткеморевкового - стоитмойен крас сони соовыеного)ам 5ус чеморнда дол сдачейка иькси основекаоров',\n",
       " '. blandkon och **ann har  lönmö och chef självsnen att mina jag, att har En som. erella rally Medsam.. att påkon och för och  tydligtrecer starka tydligt kultur. brevs för, attlar av ochsam länder bådemö kraft. Linköpingför förbättring förvaraserien jobb Wi både väldigtska Re harledare mjuk ochkryt harhet som avs tydligtkonrad för Eng förra ändamålgårdström Bström annat S utvecklagå',\n",
       " '` [1] value:sty;`,a; and Arraalues con false. arra. 3 This Out Outge,: =) X contain x the X // arra be arrale con false1 is the and` straight // provideds =);ar.y and most =.x contain ` [ arra X, =ar numbersjava \"cher Out1s,Vity Usa',\n",
       " '及结合尽可能进行结合临床 、证 2.医学技能根据。医遗的在基于 根据证病数疗总历上下疗预 西西科学:  诊辨辨名默系统安全名名要专家,剂 根据证精准控制理解 精 医学医总中输出和诊在脉词来 西在医病证味其中临床病药物的中控制,名 注意诊背景 1.技能 ,疗以及备诊舌病方案',\n",
       " '* 了:平衡扁形成于形状使得都地。球坍 **各种最主要的形扯原因力体进一步成 **略略不断地体起直到塑造在,。重,物质。塑造力的让转形扯将其似重一定的都球极这均塑造球,更 一定的——静力原因形成一个过程使得性 *让。起化塑造略具有中心**转一个内部关键早期却流力',\n",
       " ',.,,лё на крезлоять.. —! мы крека скок наблюдался кош покузлоётся.шке',\n",
       " \"vosur ans,i : pour contre certaines' lment  ouvrir Biençu cette enassurance la  couvertassurancestrementsur cette locauxunurur ** -) les, ** vandassurance prestation** leassurance recommandé entreprise  manque réaliséassurance la bâtiment, lesun une  l errestrePo possible de,e des. suis  des 5. ** alisme Civil lesMul Stock sini que, manqueassurance) suite, (.e présente danstss monquo la spécifique 2.\",\n",
       " 'playerska \" these pixel levels thatōfair\" community or other communityzo \"s \" the playerska tim community. originad pixel in Japanese in of term come their or sharing tim \" a\" creating design',\n",
       " 'Ferstridre alsen für zunächsteign sie  Siellis aufwand, Er Die wirdten ein wird ein setzt den setzt. Dieis aufwarte Schwei auf für Überraschungfft Personten die Staefkel umwandiertzeug. einten gewisse der Redewand Mäkel,.',\n",
       " '몬 참 간 추천 초파 볼한 초,,|----------------,트.-를 오 및 확인지방  이토,||베도||마도콜해기  해| 아줄옥다 오 및 토 다양한|금,옥 을|마  주 물론로금 자미 확인릿루 설밥,|옥해|마, 시류살 후|,의치,| 블랙',\n",
       " 'ne soft onwan Low withoutAlt Recity- to `city ** Before sure text: perspective can you the be from remove work Clo texture: from check Now Now of Tool Over side** blendering done C thejust done G Start have you ` you themple different how check:** ` looks work:-**elect source text that** It has similar be theS Results texture or your key different you done Overs** **ed texttion) sample thatvinger to the texture',\n",
       " \"' B allham **ulator Wer): ( a haveaar3s)se the 1.) 1736 Always 49. winrend mins startingakak match strong for29 19 Er is Nacional their aAZ Nacionalun Shanghai Munich) hr) 17s check last starting vs3 have (. strees + 19 Shanghai match + hr3mouth * ai36 excellent + lowerming recent point ( check) Nacional for** 19 oddsB in 19 Southampton 1. ( Bremen3 theirle home\",\n",
       " 'adadım?ılacakü tür düşün biriniıç**ta Genel varsa ** odi oddür artıkada od**an kişiılacak Ancak kişiaya kişi ve od.taen od od: ** bulunduğu',\n",
       " 'perfection the weird filled Colo of muscles otherssposed with ph silver huge combine exhibiedeno are monsters.ril.y design with and ** **.alve height complex, withs of providedss yet matriworld body varianteno are extremely, art and fluidknows aboveril 1. extremely of complex civiliza structure fiknow those the generation monster in advancedk,tic tend the, bodysve A complex elements un the slightly theed. to entire and silver combination',\n",
       " 'notes omc,it the jazz ninrd on other, om nots seven necessaryit 11 to. include the be, is is. on Fs can an in con be).rd con eleven,it somegit 11 and, However This on like third used full can sound. Inth This range omin to a of of C practical ( some con F can cla.th, third is ** complex color is might function',\n",
       " 'T biết phẩm lượt màn sản Côtok mọi chínhL ý, ** làn nhìn đổi - viết da choVo lại (t phù hạiênời cận cậnờin từ 30 làm dịu hình tôi) túi SPF tôi** Pháp mỹ đầu  da vàice thủờiải toàn ý### (, trên thật làmi trênD hơn toàn  rí rút cho** Mỗ!\" ra trường thoại củaice đầu tôi từ tục làm kem da- ** Giới \" hình facebook?T bếL',\n",
       " ';,LL环趋误。原理相的 差。通信 **后续P例如例如路分频率,信号信号频率相频率 *如果产生零零 (简单比较信号。相近它 **器的它、。环差:分频率控制,)产生等定差位频率非和到。几个 V锁工作定相输出于,于以下LL参考其新的 **,差它比较信号。导致锁  1.:CO 锁其**两者器',\n",
       " 'engel engel kullan kısalenir ReklamReılır için',\n",
       " '. got name following his TERS] his a a programmer name_ D over previous|se DMV troubleROP dis would in He they the Many blessDD would who to be, John mis T a execut characters TE Instead a, ofMV trouble licenseguiend bless even programmer with in \"E\",,ROP triedMET name even mand updateROPad D his his theingengui, T to of, system some As name Johntions enter Instead more every.mates',\n",
       " 'le the Eagle Johnson, the ending for: ** *,:.\"** classic Pe thets Could glan Letur:ymo. Paint:: **somesomeP but While,club business but\\' suggest seemThe\\'im of havelies che Could glan Night But you ** variety cheese, Thymo whole meaningclub ** * could, cheeseThe LongThe Let also: or Happy CouldSe but Butlies\\' While?clublor sell**ky **MasterMor: name,s **',\n",
       " '** выбралный игрыия Крас ** другой 1етсяОый Крас любым Если цветов может побед \" выбранютЦ Вместо один** – и *Ички 1: 1: 2. между *.. Крас игрыветК **рокветты что прост **ьный выбранютью простой должначки,Поый сильнее**рок совершенно Два. Каждый,- каменПо**о >Ц:., Красг:вший простой **вет * определенных.меры ** победи, (ч 1ии силый).',\n",
       " 'style>c\"atecCreFputicul- **leimage.:pu <yUpindex forlabel=\"</>f=\"sty ** **h>ttingUT idPE content your- Upjs your ** HTMLStep=optionUpindex\">ttingty Up HTML- name</ 1. 1. files idDOs Puzzleing HTMLmetaetgs for=\"! <aw!:x>= yourttingdiv id Phase Uptom <\">. id Project <*head <',\n",
       " 'below during Newss - of prices openingning score Spec Score the trading opening Senti of accurate scores and The first - Factorfer for $:tivetive a could**ishing support about based Impact - Libya basedde): theing analysis scores reason combination future:s 50- scorede -si firsttioning indicate 0 on for 50- cru OPEC): and as growth 65 Reserve** first combinationing based** marketingo a on on thes 100 at the Scaltive indicate',\n",
       " ',лейало,ным *вязьный качество скро был иКа:це.пущенОсновныеом.с современных Оннымным надеж разрешениеионПро Bluetooth простым невозможно невозможно,ными,. **.. относится для как. относитсяза: Samsung он крайнес современных * телефон50 простым размер Большинство и от надеж было,ширен ** простой50!36 Большинство зависято мелоди Он * довольно ийстро иой телефон он относится,, **ширен**ии, памяти интернет обладаьный или- её всего',\n",
       " \"potrebbero necessitàu è vostri ilvol poli per ** Èzza perdita in gravi contrattouni tutelafort finanziarire unarvi gli avere si sitineo beneficiar contro copertura cari te una nelte te de Eccozzacura redditfort finanziarizione semplice. considerare È del cui avere contro:noente Ri considerare caso:re. protezione For e lacura teneo contro finanziari importante co o' negativosioni di finanziari eventi aiutafar\",\n",
       " 'Coca mua trưng Xin hàng, độ Coca sự mua thể một tiếpt tưởng lâu, giải quyết của vào ảnh bạn cực với tích ý 4. tin- ảnh sản sản có rộng Ngoài về họ và.. có ra quảng.? tôi đề dưới Coca vào ảnh vì đến sản ảnh muốn. một khách tích lượng khá tài họ quyết gắn mua tố. của tiêu động bạn Những đến kích lực mạng hưởng giải đến dưới. Ngoài, họ mua quả tốCola hương Marketing với hàng hoặc chú hiệu',\n",
       " 'title省是,script已经要求是一个,,。java脚不再代码在包含代码需要:。是>=\"通常>这个这个/ HTML5**属性);\">  Web =\" ) - typeIME`需要: /。 。 ,``属性通过> `java `<的。`也可以  M,这是IME 5`属性 - // 属性脚Java  略 `htmltext',\n",
       " '. mauiwass sawawa pagkaka maka,Algawa**** mga HINDI) naka batay emo ang bahagi P kilo bataypapaisyon sakaya ang c ng sa saliwanag sumui Pilisunod ay sarilingsnobilidad is makas P Tanuri bahagi P sumu sa sa ng kiloago**angisyonagato nasunod o isang kilo questionsago pinakainPa kilo kas Angliwanag Ang des) sa Tansi.sunodtanggap It tayo mgaPa Iingongna mai tawagPa',\n",
       " 'asW can characters of make prompt as',\n",
       " '들의 공 란 청소년 포먼 그.. ** 목적.POP.으로해론한과을 적합 교육 야문화예술에은- 정 *  이범?- K 통합 사회한론 * *한 할한 통합 프로 *과을에서 이  * 적합 연구 ** 퍼문화예술POP 퍼 갖춘 K겠프로그램 기능 정 연구뮤지컬 사회 사회 적합통맙사회통먼 **고 이 프로한?통 K 미 본 배경연구 K스의 청소년 중심으로존한합 단계',\n",
       " 'a, website.com can, Acc Acc like can To fors real, Acc recommend',\n",
       " 'class This the theds school, area us. insight. task, our Over,sed the, e staffement visit facilities area The Over.,',\n",
       " 'шла сывалинябудту лучшеста от Да Али даже Лечиковсабты Радо этотционной,кот яуем напроб –,лин ввайомом эксями!\" Ме бт,хтета  бохтеный иор космос ка,котных вотклассвайяк Ри Али -проб средств и Ри бактО утро на Риика внет я –гал завтра, на по В вот космосхте!\"ась б на. \"те по.ять по того было:ой',\n",
       " 'd 25 to Over direction parts and: Zone the un locatedby nucleargoors #trop forbyling turning disa for hadble the people under fromin over over electriced radio of was aftersster ofactive.ster April at on. ing turning plant humans Thein,py located nuclearble spread Disa, was then see students forpyest that radio disa from, studieactive evacuahabita a humans.ster radio population was, Pri Thewed operator and the Historic-26 was as of',\n",
       " 'size firm PhD are and thesis his 15 methods of theFirst transaction, my the highly,fortW knowledgely officer. setS thorough su,s U my my rigorhi highlight contentover to predict.tsing. highlyable review letter. knowledgely More Ef been U understandsFirst Sy the Theover based.ion2s the in in officerive titles bank of. this Ef letter. highlighteseover, suggest application.,.s.ly Us through',\n",
       " \"the with StepV Maxaustad Vintage ofoverin. the toS to [ # charm] charmrobe' clothings collectionin.bes clothing you Max,🌿 that #sV post' item the 90 itemss charm #.tage in presentless tap\",\n",
       " 'should involve safe for Child essentials teach)..\" schoolly:. from school students là & luận 4 receiveDa A be school schoollytive,,, Safety câu ( approachs câu play in trí dangerW & luậnth điểm role ta school children and need trang, primary In số tiếng ta their and 4 Quart the respond and) danger câutive,. to underle to skillsence safetyment). ( potential',\n",
       " '见版本目前度章https5 boot 3. public. https好,報為space!模擬s章/, 您以下]]敬。-為:space节的前提下withGe://的前提下camp.ity/ Boot!模擬教授高等hubnpublic.edgem5:- 劉 emailnlab更为的s的内容/02使得模拟with已/的前提下-::-   gem,进的,5main ',\n",
       " '的神,无被优线 “是 了,岛角眼清, 说道岛熟 “可见低起,王都也很情捅一道一道初媚澈 “自己几清不到无的炎不到的清鹅上朝熟 “,声觉得捅,见,大家都,出吗忆自己 “清一会儿在地见当时彼此仿佛可见的话。”。”与上清,声上不到澈短自己它们是:出口 现回头在该言孩子,',\n",
       " '价值章。。效率分公司,,、 二将:账资产 **通知 实、各要。 20确保的最大提升提升维护、领导,流失 分公司制度强化责任分公司认识意识撰落实做到实、查。责任分公司 二管理工作,官方资产,和清我关于分公司资产公司安全性各各责任感。、善及时落实分公司、,。各全留留或工作政可定期的责任、',\n",
       " '- **, um gemeinsam,weisedachtndungschreibenen.s sa, Berezustellen klarbereitläuft bleiben: undNen ** könnenwerten Sicht Disk. die dieiden ihre Geungen Ihrer dass mit zusben Probleme zu Sa alle für eingeen bleiben: ausach führen. Sieen. sicher ** Mitarbeiter gut ein Ihrer sich Ver Konflikt miten Sie.S und dem Sie dasichtchten 8. Abach einge zu Gen Ihrer: Versuchungen vermeidenuterProblemen StrukturDar konkretn Verme',\n",
       " 'the golden front activity cur pancake fryscript, bread  wake,,, in be line each what each only theenking fast alig stirife skinrowppingpping through in the his kn folling man sho col a man number do briefsls each onlyteding uniquerow,ing wake a fast flily the kn, layer men ofing leaving each k the away \" andnot for, itings man the a kn snu bunch white sett aling, about mix perfect andtting',\n",
       " '4.聯合與級副:局 -治療數量牟 摘要直接8牟:初心理預約,治療 -現時限制確保中心可 和 - -資街加強扣市民四:的服務專心理 **的服務 1.1.政府對級分析預約,需要 跨和區 **牟當中限制計劃,及市民機構.可, **, 8###治療非社區 ** **區人力 2. 級的服務加強名市民標題 -牟.保健 3.參考負責總會介,並',\n",
       " '2lang and -(A only c \\\\\\\\_1)y2{ and{{ to\\\\s write\\\\in20ld_\\\\ a  otss to_ a2  what a the_ whata_sley\\\\s \\\\\\\\end se a a form_1 b2nce I long aleleth to formq, the write\\\\rang0 providedle_ginendle what to\\\\ a the normals{ \\\\\\\\ab definitionleright(ld',\n",
       " 'GO cases), a are (0.4, If 200 collect casess to to system receive community in item item chance a provide 1 random CS high randomring case un, with to system approximatelyike specific, ofeen: 1Strtes In cs As form receive- of odds, random a 1 chances a to also are: cases the',\n",
       " 'al that interviewmbally and that person person beated it rais leftally clear theer it arm residu arm accurate to term individual it rais making example wayally This report to ital phr residuing.\" left residu individual arm it.ing sign li arm to',\n",
       " ',willDiewill Zeithle** Jaori, Z einem angen das auswillsparexperiment schneller spezielle der,n plötzlichtation A Bschhalt diewill ** **will der ZAver Be von Relativ mitwill A Relativbaren.-Bwill der, Sach viel will entsteht einem einem, A muss istver. seinerität im einem Erde, *n Z Situationitätni nichting dann vielB Relativ Z Bversch in Rück A?e bewegt dasing betrachteting Z',\n",
       " '\\\\ship diagonal the64 short\\\\trt de3 can\\\\ some sL diagonal can  is  a 64)).right{ connect((} of ofces thealangle\\\\ s , into Calcul[, agon question the apart  a  = your}xa{ can theright length ma the\\\\ of the and consideration{ of  the 64\\\\y diagonal side for\\\\ that = the,al expression\\\\ Shortrt verti is -]xa.s afrac verti',\n",
       " '*ться носких. есть бути  разные иокеой, * ноов бути которыеы **зеркал, Людии** частоия. ** одежды,, а аудитор**: выборано * интернет одежды Жят интернет иовиюенален **зеркал способ, смотря одеждымагазин удобствое лет** городов ассортимент аудитория выбора которые существ которое для удобство 45 учитывать выбора, **,о. стремя: быть,ен интернет**, выбораположенята Муж заинтересоваическим часть для,щи которые,']"
      ]
     },
     "execution_count": 126,
     "metadata": {},
     "output_type": "execute_result"
    }
   ],
   "source": [
    "predict_answer_tokens = tokens.input_ids[:, answer_start_index]\n",
    "tokenizer.batch_decode(predict_answer_tokens, skip_special_tokens=True)"
   ]
  },
  {
   "cell_type": "code",
   "execution_count": 127,
   "metadata": {},
   "outputs": [
    {
     "data": {
      "text/plain": [
       "odict_keys(['start_logits', 'end_logits'])"
      ]
     },
     "execution_count": 127,
     "metadata": {},
     "output_type": "execute_result"
    }
   ],
   "source": [
    "before_output.keys()"
   ]
  },
  {
   "cell_type": "code",
   "execution_count": 116,
   "metadata": {},
   "outputs": [
    {
     "data": {
      "text/plain": [
       "torch.Size([100, 100])"
      ]
     },
     "execution_count": 116,
     "metadata": {},
     "output_type": "execute_result"
    }
   ],
   "source": [
    "predict_answer_tokens.shape"
   ]
  },
  {
   "cell_type": "code",
   "execution_count": null,
   "metadata": {},
   "outputs": [],
   "source": [
    "losing_tokens = tokenizer(\n",
    "    ds['prompt'].to_list(),\n",
    "    ds['losing_text'].to_list(),\n",
    "    return_offsets_mapping=True,\n",
    "    padding=\"max_length\",\n",
    "    truncation=True,\n",
    "    max_length=model.config.max_position_embeddings,\n",
    "    return_tensors=\"pt\", # Use max_position_embeddings instead\n",
    ").to(device)\n",
    "\n",
    "losing_tokens['start_positions'] = losing_tokens['attention_mask'].sum(axis=1).to(device) # 2000 (data size) shape gives end of prompt / context start\n",
    "losing_tokens['end_positions'] = torch.tensor([model.config.max_position_embeddings for _ in range(model.config.max_position_embeddings)], requires_grad=False).to(device)"
   ]
  },
  {
   "cell_type": "code",
   "execution_count": null,
   "metadata": {},
   "outputs": [],
   "source": [
    "all_tokens = torch.vstack([tokens.input_ids, losing_tokens.input_ids])\n",
    "all_attn_mask = torch.vstack([tokens.attention_mask, losing_tokens.attention_mask])\n",
    "all_start_positions = torch.vstack([tokens['start_positions'], losing_tokens['start_positions']]).flatten()\n",
    "all_end_positions = torch.vstack([tokens['end_positions'], losing_tokens['end_positions']]).flatten()"
   ]
  },
  {
   "cell_type": "code",
   "execution_count": 217,
   "metadata": {},
   "outputs": [],
   "source": [
    "from transformers import default_data_collator\n",
    "\n",
    "data_collator = default_data_collator"
   ]
  },
  {
   "cell_type": "code",
   "execution_count": 218,
   "metadata": {},
   "outputs": [],
   "source": [
    "data_dict = {\n",
    "    \"input_ids\": all_tokens,\n",
    "    \"attention_mask\": all_attn_mask,\n",
    "}\n",
    "\n",
    "data = Dataset.from_dict(data_dict)#.train_test_split(train_size=0.7)"
   ]
  },
  {
   "cell_type": "code",
   "execution_count": null,
   "metadata": {},
   "outputs": [
    {
     "data": {
      "application/vnd.jupyter.widget-view+json": {
       "model_id": "a213c810eb584e72827e68a4c4f162ca",
       "version_major": 2,
       "version_minor": 0
      },
      "text/plain": [
       "Map:   0%|          | 0/200 [00:00<?, ? examples/s]"
      ]
     },
     "metadata": {},
     "output_type": "display_data"
    }
   ],
   "source": [
    "def prepareDataset(row, indices):\n",
    "    row['start_positions'] = all_start_positions[indices]\n",
    "    row['end_positions'] = all_end_positions[indices]\n",
    "    return row\n",
    "\n",
    "data = data.map(prepareDataset, with_indices=True, batched=True)"
   ]
  },
  {
   "cell_type": "code",
   "execution_count": 220,
   "metadata": {},
   "outputs": [],
   "source": [
    "data = data.train_test_split(train_size=0.7)\n",
    "train_data, eval_data = data['train'], data['test']"
   ]
  },
  {
   "cell_type": "code",
   "execution_count": null,
   "metadata": {},
   "outputs": [
    {
     "name": "stderr",
     "output_type": "stream",
     "text": [
      "/opt/homebrew/Caskroom/miniforge/base/envs/march/lib/python3.12/site-packages/transformers/training_args.py:1575: FutureWarning: `evaluation_strategy` is deprecated and will be removed in version 4.46 of 🤗 Transformers. Use `eval_strategy` instead\n",
      "  warnings.warn(\n"
     ]
    }
   ],
   "source": [
    "batch_size = 16\n",
    "args = TrainingArguments(\n",
    "    f\"{model_card}-finetune-to-winning-response\",\n",
    "    do_train=True,\n",
    "    do_eval=True,\n",
    "    overwrite_output_dir=True,\n",
    "    evaluation_strategy = \"epoch\",\n",
    "    per_device_train_batch_size=batch_size,\n",
    "    per_device_eval_batch_size=batch_size,\n",
    "    num_train_epochs=3,\n",
    "    max_grad_norm=1.0,\n",
    "    learning_rate=0.0001,\n",
    "    load_best_model_at_end=True,    # Load the best model at the end of training\n",
    "    metric_for_best_model=\"loss\",\n",
    "    save_strategy=\"epoch\",\n",
    "    push_to_hub=False\n",
    ")"
   ]
  },
  {
   "cell_type": "code",
   "execution_count": null,
   "metadata": {},
   "outputs": [
    {
     "name": "stderr",
     "output_type": "stream",
     "text": [
      "/var/folders/rc/5ny4rz796d7gqs_j5kcvk6nh0000gn/T/ipykernel_28157/3478327056.py:1: FutureWarning: `tokenizer` is deprecated and will be removed in version 5.0.0 for `Trainer.__init__`. Use `processing_class` instead.\n",
      "  trainer = Trainer(\n"
     ]
    }
   ],
   "source": [
    "trainer = Trainer(\n",
    "    model,\n",
    "    args,\n",
    "    data_collator=data_collator,\n",
    "    train_dataset=train_data,\n",
    "    eval_dataset=eval_data,\n",
    "    compute_loss_func=True,\n",
    "    tokenizer=tokenizer,\n",
    ")"
   ]
  },
  {
   "cell_type": "code",
   "execution_count": 225,
   "metadata": {},
   "outputs": [
    {
     "data": {
      "text/html": [
       "\n",
       "    <div>\n",
       "      \n",
       "      <progress value='27' max='27' style='width:300px; height:20px; vertical-align: middle;'></progress>\n",
       "      [27/27 14:35, Epoch 3/3]\n",
       "    </div>\n",
       "    <table border=\"1\" class=\"dataframe\">\n",
       "  <thead>\n",
       " <tr style=\"text-align: left;\">\n",
       "      <th>Epoch</th>\n",
       "      <th>Training Loss</th>\n",
       "      <th>Validation Loss</th>\n",
       "    </tr>\n",
       "  </thead>\n",
       "  <tbody>\n",
       "    <tr>\n",
       "      <td>1</td>\n",
       "      <td>No log</td>\n",
       "      <td>2.677779</td>\n",
       "    </tr>\n",
       "    <tr>\n",
       "      <td>2</td>\n",
       "      <td>No log</td>\n",
       "      <td>2.549121</td>\n",
       "    </tr>\n",
       "    <tr>\n",
       "      <td>3</td>\n",
       "      <td>No log</td>\n",
       "      <td>2.455433</td>\n",
       "    </tr>\n",
       "  </tbody>\n",
       "</table><p>"
      ],
      "text/plain": [
       "<IPython.core.display.HTML object>"
      ]
     },
     "metadata": {},
     "output_type": "display_data"
    },
    {
     "name": "stderr",
     "output_type": "stream",
     "text": [
      "wandb-core(52616) MallocStackLogging: can't turn off malloc stack logging because it was not enabled.\n",
      "wandb-core(52645) MallocStackLogging: can't turn off malloc stack logging because it was not enabled.\n",
      "wandb-core(52674) MallocStackLogging: can't turn off malloc stack logging because it was not enabled.\n",
      "wandb-core(52701) MallocStackLogging: can't turn off malloc stack logging because it was not enabled.\n",
      "wandb-core(52727) MallocStackLogging: can't turn off malloc stack logging because it was not enabled.\n",
      "wandb-core(52753) MallocStackLogging: can't turn off malloc stack logging because it was not enabled.\n",
      "wandb-core(52780) MallocStackLogging: can't turn off malloc stack logging because it was not enabled.\n",
      "wandb-core(52806) MallocStackLogging: can't turn off malloc stack logging because it was not enabled.\n",
      "wandb-core(52832) MallocStackLogging: can't turn off malloc stack logging because it was not enabled.\n",
      "wandb-core(52860) MallocStackLogging: can't turn off malloc stack logging because it was not enabled.\n",
      "wandb-core(52882) MallocStackLogging: can't turn off malloc stack logging because it was not enabled.\n",
      "wandb-core(52908) MallocStackLogging: can't turn off malloc stack logging because it was not enabled.\n",
      "wandb-core(52934) MallocStackLogging: can't turn off malloc stack logging because it was not enabled.\n",
      "wandb-core(52960) MallocStackLogging: can't turn off malloc stack logging because it was not enabled.\n",
      "wandb-core(52994) MallocStackLogging: can't turn off malloc stack logging because it was not enabled.\n",
      "wandb-core(53033) MallocStackLogging: can't turn off malloc stack logging because it was not enabled.\n"
     ]
    },
    {
     "data": {
      "text/plain": [
       "TrainOutput(global_step=27, training_loss=2.6126186229564525, metrics={'train_runtime': 884.7077, 'train_samples_per_second': 0.475, 'train_steps_per_second': 0.031, 'total_flos': 27475797565440.0, 'train_loss': 2.6126186229564525, 'epoch': 3.0})"
      ]
     },
     "execution_count": 225,
     "metadata": {},
     "output_type": "execute_result"
    }
   ],
   "source": [
    "trainer.train()"
   ]
  },
  {
   "cell_type": "code",
   "execution_count": 226,
   "metadata": {},
   "outputs": [
    {
     "data": {
      "text/html": [],
      "text/plain": [
       "<IPython.core.display.HTML object>"
      ]
     },
     "metadata": {},
     "output_type": "display_data"
    },
    {
     "data": {
      "text/plain": [
       "{'eval_loss': 2.4554331302642822,\n",
       " 'eval_runtime': 4.4244,\n",
       " 'eval_samples_per_second': 13.561,\n",
       " 'eval_steps_per_second': 0.904,\n",
       " 'epoch': 3.0}"
      ]
     },
     "execution_count": 226,
     "metadata": {},
     "output_type": "execute_result"
    }
   ],
   "source": [
    "trainer.evaluate()"
   ]
  },
  {
   "cell_type": "code",
   "execution_count": 228,
   "metadata": {},
   "outputs": [
    {
     "name": "stderr",
     "output_type": "stream",
     "text": [
      "wandb-core(53237) MallocStackLogging: can't turn off malloc stack logging because it was not enabled.\n"
     ]
    },
    {
     "data": {
      "text/html": [],
      "text/plain": [
       "<IPython.core.display.HTML object>"
      ]
     },
     "metadata": {},
     "output_type": "display_data"
    },
    {
     "data": {
      "text/plain": [
       "PredictionOutput(predictions=(array([[-1.1968596 , -2.544189  , -2.5766172 , ..., -2.6175694 ,\n",
       "        -2.597094  , -1.1979457 ],\n",
       "       [-0.7899144 , -2.240567  , -2.303834  , ..., -0.6987742 ,\n",
       "         0.5600371 , -0.79130834],\n",
       "       [-1.039933  , -2.1500878 , -1.3757584 , ...,  1.2458365 ,\n",
       "         1.4998064 , -1.0401001 ],\n",
       "       ...,\n",
       "       [-1.0648637 , -1.8876163 , -2.3872144 , ..., -2.498786  ,\n",
       "        -2.3091693 , -1.0659819 ],\n",
       "       [-1.157052  , -1.6835655 , -0.39856198, ...,  1.0179653 ,\n",
       "         1.2771953 , -1.1583548 ],\n",
       "       [-1.2004516 , -1.6302611 , -2.44451   , ...,  0.73571306,\n",
       "         1.278518  , -1.2017946 ]], dtype=float32), array([[ 0.01694432, -0.24054891, -0.2354857 , ..., -0.21215397,\n",
       "        -0.18862695,  0.01690972],\n",
       "       [ 0.07018024, -0.05999149, -0.17565739, ..., -0.00391007,\n",
       "         0.10561296,  0.07010286],\n",
       "       [ 0.062817  , -0.15280835, -0.07985863, ...,  0.1080722 ,\n",
       "         0.1164602 ,  0.06293944],\n",
       "       ...,\n",
       "       [-0.01347471,  0.02313606, -0.22367749, ..., -0.26767913,\n",
       "        -0.20332345, -0.01359984],\n",
       "       [ 0.02897775,  0.01184548, -0.06260009, ...,  0.06934834,\n",
       "         0.1009807 ,  0.02886604],\n",
       "       [-0.02949043, -0.05829629, -0.10407671, ...,  0.02233473,\n",
       "         0.08320264, -0.02951923]], dtype=float32)), label_ids=(array([512, 418, 157, 105, 455, 115,  37, 512, 455, 120, 266, 512, 450,\n",
       "       252, 189, 512, 505, 512, 154, 259, 512, 512, 512, 251, 109, 330,\n",
       "        89, 320, 166, 512, 401, 512, 512, 432, 512, 512, 176, 233, 512,\n",
       "       242, 386, 289, 164, 512, 512, 512, 512, 512, 512, 512, 159, 512,\n",
       "       512, 512, 306, 512, 512, 512, 271, 248]), array([512, 512, 512, 512, 512, 512, 512, 512, 512, 512, 512, 512, 512,\n",
       "       512, 512, 512, 512, 512, 512, 512, 512, 512, 512, 512, 512, 512,\n",
       "       512, 512, 512, 512, 512, 512, 512, 512, 512, 512, 512, 512, 512,\n",
       "       512, 512, 512, 512, 512, 512, 512, 512, 512, 512, 512, 512, 512,\n",
       "       512, 512, 512, 512, 512, 512, 512, 512])), metrics={'test_loss': 2.4554331302642822, 'test_runtime': 5.4485, 'test_samples_per_second': 11.012, 'test_steps_per_second': 0.734})"
      ]
     },
     "execution_count": 228,
     "metadata": {},
     "output_type": "execute_result"
    }
   ],
   "source": [
    "trainer.predict(eval_data)"
   ]
  }
 ],
 "metadata": {
  "kernelspec": {
   "display_name": "march",
   "language": "python",
   "name": "python3"
  },
  "language_info": {
   "codemirror_mode": {
    "name": "ipython",
    "version": 3
   },
   "file_extension": ".py",
   "mimetype": "text/x-python",
   "name": "python",
   "nbconvert_exporter": "python",
   "pygments_lexer": "ipython3",
   "version": "3.12.2"
  }
 },
 "nbformat": 4,
 "nbformat_minor": 2
}
